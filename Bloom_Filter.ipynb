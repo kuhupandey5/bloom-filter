{
 "cells": [
  {
   "cell_type": "code",
   "execution_count": 1,
   "source": [
    "#As per attached file(FPR and k value.docx) of n/m, k and FPR values and also the 'k vs FPR graph attached(bloom-filter-analysis.png)'\n",
    "#n/m = 4 \n",
    "#k = 3 because it has the minimal probability of FP possible when n/m = 4 (bloom-filter-analysis.png)"
   ],
   "outputs": [],
   "metadata": {}
  },
  {
   "cell_type": "code",
   "execution_count": 2,
   "source": [
    "#hash function used is xxHash\n",
    "from bitarray import bitarray\n",
    "import xxhash"
   ],
   "outputs": [],
   "metadata": {}
  },
  {
   "cell_type": "code",
   "execution_count": 3,
   "source": [
    "input_data = dict()\n",
    "input_set = []\n",
    "true_negative = int(0)\n",
    "false_positive = int(0)"
   ],
   "outputs": [],
   "metadata": {}
  },
  {
   "cell_type": "code",
   "execution_count": 4,
   "source": [
    "# reading the file which has S\n",
    "lines = open(\"listed_username_30.txt\", \"r\", encoding='ISO-8859-1')\n",
    "for line in lines:\n",
    "    input_data[line] = line\n",
    "    input_set.append(line)\n",
    "lines.close()"
   ],
   "outputs": [],
   "metadata": {}
  },
  {
   "cell_type": "code",
   "execution_count": 5,
   "source": [
    "# set the parameters\n",
    "n = len(input_set)\n",
    "m = 4 * n\n",
    "bit_vector = bitarray(m)\n",
    "bit_vector.setall(bool(0))"
   ],
   "outputs": [],
   "metadata": {}
  },
  {
   "cell_type": "code",
   "execution_count": 6,
   "source": [
    "# mapping S to bit_vector\n",
    "for i in input_set:\n",
    "    hashFun1 = (xxhash.xxh32(i,23).intdigest()) % m\n",
    "    hashFun2 = (xxhash.xxh32(i,29).intdigest()) % m\n",
    "    hashFun3 = (xxhash.xxh32(i,31).intdigest()) % m\n",
    "    bit_vector[hashFun1] = bool(1)\n",
    "    bit_vector[hashFun2] = bool(1)\n",
    "    bit_vector[hashFun3] = bool(1)"
   ],
   "outputs": [],
   "metadata": {}
  },
  {
   "cell_type": "code",
   "execution_count": 7,
   "source": [
    "# reading the stream\n",
    "usernames365 = open(\"listed_username_365.txt\", \"r\",encoding='ISO-8859-1')\n",
    "for username in usernames365:\n",
    "    hashFun1 = (xxhash.xxh32(username,23).intdigest()) % m\n",
    "    hashFun2 = (xxhash.xxh32(username,29).intdigest()) % m\n",
    "    hashFun3 = (xxhash.xxh32(username,31).intdigest()) % m\n",
    "    if (bit_vector[hashFun1] is True) and (bit_vector[hashFun2] is True) and (bit_vector[hashFun3] is True):\n",
    "        if username not in input_data:\n",
    "            false_positive = false_positive + 1\n",
    "    else:\n",
    "        true_negative = true_negative + 1\n",
    "usernames365.close()"
   ],
   "outputs": [],
   "metadata": {}
  },
  {
   "cell_type": "code",
   "execution_count": 8,
   "source": [
    "# printing False positive rate\n",
    "print ((float(false_positive)/(false_positive + true_negative)) * 100, \"%\")"
   ],
   "outputs": [
    {
     "output_type": "stream",
     "name": "stdout",
     "text": [
      "14.693500387660418 %\n"
     ]
    }
   ],
   "metadata": {}
  },
  {
   "cell_type": "code",
   "execution_count": null,
   "source": [],
   "outputs": [],
   "metadata": {}
  }
 ],
 "metadata": {
  "kernelspec": {
   "display_name": "Python 3",
   "language": "python",
   "name": "python3"
  },
  "language_info": {
   "codemirror_mode": {
    "name": "ipython",
    "version": 3
   },
   "file_extension": ".py",
   "mimetype": "text/x-python",
   "name": "python",
   "nbconvert_exporter": "python",
   "pygments_lexer": "ipython3",
   "version": "3.8.8"
  }
 },
 "nbformat": 4,
 "nbformat_minor": 5
}